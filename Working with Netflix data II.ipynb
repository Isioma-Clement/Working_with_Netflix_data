{
 "cells": [
  {
   "cell_type": "markdown",
   "id": "6712c1b6",
   "metadata": {},
   "source": [
    "Import the necessary libraries"
   ]
  },
  {
   "cell_type": "code",
   "execution_count": 1,
   "id": "e7279e3f",
   "metadata": {},
   "outputs": [],
   "source": [
    "import pandas as pd\n",
    "import matplotlib.pyplot as plt"
   ]
  },
  {
   "cell_type": "markdown",
   "id": "acccdaa9",
   "metadata": {},
   "source": [
    "Load Netflix data (\"NetflixViewingHistory.csv\") into a Pandas dataframe and view it"
   ]
  },
  {
   "cell_type": "code",
   "execution_count": 2,
   "id": "fed3274b",
   "metadata": {
    "scrolled": true
   },
   "outputs": [
    {
     "data": {
      "text/html": [
       "<div>\n",
       "<style scoped>\n",
       "    .dataframe tbody tr th:only-of-type {\n",
       "        vertical-align: middle;\n",
       "    }\n",
       "\n",
       "    .dataframe tbody tr th {\n",
       "        vertical-align: top;\n",
       "    }\n",
       "\n",
       "    .dataframe thead th {\n",
       "        text-align: right;\n",
       "    }\n",
       "</style>\n",
       "<table border=\"1\" class=\"dataframe\">\n",
       "  <thead>\n",
       "    <tr style=\"text-align: right;\">\n",
       "      <th></th>\n",
       "      <th>Title</th>\n",
       "      <th>Date</th>\n",
       "    </tr>\n",
       "  </thead>\n",
       "  <tbody>\n",
       "    <tr>\n",
       "      <th>0</th>\n",
       "      <td>Russian Doll: Season 2: Station to Station</td>\n",
       "      <td>5/4/22</td>\n",
       "    </tr>\n",
       "    <tr>\n",
       "      <th>1</th>\n",
       "      <td>Russian Doll: Season 2: Brain Drain</td>\n",
       "      <td>5/3/22</td>\n",
       "    </tr>\n",
       "    <tr>\n",
       "      <th>2</th>\n",
       "      <td>Russian Doll: Season 2: Coney Island Baby</td>\n",
       "      <td>4/26/22</td>\n",
       "    </tr>\n",
       "    <tr>\n",
       "      <th>3</th>\n",
       "      <td>Russian Doll: Season 2: Nowhen</td>\n",
       "      <td>4/26/22</td>\n",
       "    </tr>\n",
       "    <tr>\n",
       "      <th>4</th>\n",
       "      <td>Eternally Confused and Eager for Love: Season ...</td>\n",
       "      <td>4/10/22</td>\n",
       "    </tr>\n",
       "    <tr>\n",
       "      <th>...</th>\n",
       "      <td>...</td>\n",
       "      <td>...</td>\n",
       "    </tr>\n",
       "    <tr>\n",
       "      <th>1967</th>\n",
       "      <td>The OA: Part I: Chapter 4: Away</td>\n",
       "      <td>12/22/16</td>\n",
       "    </tr>\n",
       "    <tr>\n",
       "      <th>1968</th>\n",
       "      <td>The OA: Part I: Chapter 3: Champion</td>\n",
       "      <td>12/22/16</td>\n",
       "    </tr>\n",
       "    <tr>\n",
       "      <th>1969</th>\n",
       "      <td>The OA: Part I: Chapter 2: New Colossus</td>\n",
       "      <td>12/22/16</td>\n",
       "    </tr>\n",
       "    <tr>\n",
       "      <th>1970</th>\n",
       "      <td>The OA: Part I: Chapter 1: Homecoming</td>\n",
       "      <td>12/22/16</td>\n",
       "    </tr>\n",
       "    <tr>\n",
       "      <th>1971</th>\n",
       "      <td>The Imitation Game</td>\n",
       "      <td>12/21/16</td>\n",
       "    </tr>\n",
       "  </tbody>\n",
       "</table>\n",
       "<p>1972 rows × 2 columns</p>\n",
       "</div>"
      ],
      "text/plain": [
       "                                                  Title      Date\n",
       "0            Russian Doll: Season 2: Station to Station    5/4/22\n",
       "1                   Russian Doll: Season 2: Brain Drain    5/3/22\n",
       "2             Russian Doll: Season 2: Coney Island Baby   4/26/22\n",
       "3                        Russian Doll: Season 2: Nowhen   4/26/22\n",
       "4     Eternally Confused and Eager for Love: Season ...   4/10/22\n",
       "...                                                 ...       ...\n",
       "1967                    The OA: Part I: Chapter 4: Away  12/22/16\n",
       "1968                The OA: Part I: Chapter 3: Champion  12/22/16\n",
       "1969            The OA: Part I: Chapter 2: New Colossus  12/22/16\n",
       "1970              The OA: Part I: Chapter 1: Homecoming  12/22/16\n",
       "1971                                 The Imitation Game  12/21/16\n",
       "\n",
       "[1972 rows x 2 columns]"
      ]
     },
     "metadata": {},
     "output_type": "display_data"
    }
   ],
   "source": [
    "#1. Download Netflix data \"NetflixViewingHistory.csv\"\n",
    "#2. Take a look at \n",
    "\n",
    "Netflix_data = pd.read_csv('NetflixViewingHistory.csv')\n",
    "display(Netflix_data)"
   ]
  },
  {
   "cell_type": "markdown",
   "id": "975de298",
   "metadata": {},
   "source": [
    "What is the features of the dataframe (number of entries, number of columns and names of each column)?"
   ]
  },
  {
   "cell_type": "code",
   "execution_count": 3,
   "id": "b3bd703a",
   "metadata": {},
   "outputs": [
    {
     "data": {
      "text/plain": [
       "1972"
      ]
     },
     "execution_count": 3,
     "metadata": {},
     "output_type": "execute_result"
    }
   ],
   "source": [
    "# How many entries(rows) are in the data?\n",
    "\n",
    "Netflix_data.shape[0]\n"
   ]
  },
  {
   "cell_type": "code",
   "execution_count": 4,
   "id": "6f5a938d",
   "metadata": {},
   "outputs": [
    {
     "data": {
      "text/plain": [
       "2"
      ]
     },
     "execution_count": 4,
     "metadata": {},
     "output_type": "execute_result"
    }
   ],
   "source": [
    "# How many columns are in the data?\n",
    "\n",
    "Netflix_data.shape[1]"
   ]
  },
  {
   "cell_type": "code",
   "execution_count": 5,
   "id": "bcf4c462",
   "metadata": {},
   "outputs": [
    {
     "name": "stdout",
     "output_type": "stream",
     "text": [
      "Title\n",
      "Date\n"
     ]
    }
   ],
   "source": [
    "# What are the names of the first and second columns in the data?\n",
    "\n",
    "for column in Netflix_data.columns:\n",
    "    print(column)\n"
   ]
  },
  {
   "cell_type": "markdown",
   "id": "aeb32892",
   "metadata": {},
   "source": [
    "How many times was an episode of the show Designated Survivor watched according to the data?"
   ]
  },
  {
   "cell_type": "code",
   "execution_count": 6,
   "id": "697750af",
   "metadata": {},
   "outputs": [
    {
     "data": {
      "text/plain": [
       "10"
      ]
     },
     "execution_count": 6,
     "metadata": {},
     "output_type": "execute_result"
    }
   ],
   "source": [
    "# 1a. Get just the titles\n",
    "# 1b. Use .apply()to determine whether each title contains \"Designated Survivor\"\n",
    "# 1c. Sum up how many titles contain the keyword\n",
    "\n",
    "Netflix_data['Title'].apply(lambda title: 'Designated Survivor' in title).sum()"
   ]
  },
  {
   "cell_type": "markdown",
   "id": "3df41b18",
   "metadata": {},
   "source": [
    "When was the first episode of the \"Bridgerton\" watched?"
   ]
  },
  {
   "cell_type": "code",
   "execution_count": 7,
   "id": "81973c2a",
   "metadata": {},
   "outputs": [
    {
     "data": {
      "text/plain": [
       "'1/8/21'"
      ]
     },
     "execution_count": 7,
     "metadata": {},
     "output_type": "execute_result"
    }
   ],
   "source": [
    "# a. Using .loc[], zoom in on the entries containing \"Bridgerton\" in the title\n",
    "# b. Sort by the date\n",
    "# c. Get just the dates\n",
    "# d. Using .iloc[], get the latest date\n",
    "\n",
    "Netflix_data.loc[['Bridgerton' in title for title in Netflix_data['Title']], :].sort_values('Date')['Date'].iloc[0]"
   ]
  },
  {
   "cell_type": "markdown",
   "id": "51405d01",
   "metadata": {},
   "source": [
    "What is the title of the first episode of the show \"Bridgerton\" watched?"
   ]
  },
  {
   "cell_type": "code",
   "execution_count": 8,
   "id": "601f0c6a",
   "metadata": {},
   "outputs": [
    {
     "data": {
      "text/plain": [
       "'Bridgerton: Season 1: An Affair of Honor'"
      ]
     },
     "execution_count": 8,
     "metadata": {},
     "output_type": "execute_result"
    }
   ],
   "source": [
    "# a. Zoom in on entries containing \"Bridgerton\" in the title\n",
    "# b. Sort by the date \n",
    "# c. Get just the titles\n",
    "# d. Get the latest title\n",
    "\n",
    "Netflix_data.loc[['Bridgerton' in title for title in Netflix_data['Title']], :].sort_values('Date')['Title'].iloc[0]"
   ]
  },
  {
   "cell_type": "markdown",
   "id": "b9db83ed",
   "metadata": {},
   "source": [
    "When was the last episode of the \"Bridgerton\" watched?"
   ]
  },
  {
   "cell_type": "code",
   "execution_count": 9,
   "id": "ff9a3af5",
   "metadata": {},
   "outputs": [
    {
     "data": {
      "text/plain": [
       "'4/4/22'"
      ]
     },
     "execution_count": 9,
     "metadata": {},
     "output_type": "execute_result"
    }
   ],
   "source": [
    "\n",
    "Netflix_data.loc[['Bridgerton' in title for title in Netflix_data['Title']], :].sort_values('Date')['Date'].iloc[-1]"
   ]
  },
  {
   "cell_type": "markdown",
   "id": "b3171e9b",
   "metadata": {},
   "source": [
    "What is the title of the last episode of \"Bridgerton\" watched?"
   ]
  },
  {
   "cell_type": "code",
   "execution_count": 10,
   "id": "46e7f6c9",
   "metadata": {},
   "outputs": [
    {
     "data": {
      "text/plain": [
       "'Bridgerton: Season 2: The Viscount Who Loved Me'"
      ]
     },
     "execution_count": 10,
     "metadata": {},
     "output_type": "execute_result"
    }
   ],
   "source": [
    "\n",
    "\n",
    "Netflix_data.loc[['Bridgerton' in title for title in Netflix_data['Title']], :].sort_values('Date')['Title'].iloc[-1]"
   ]
  },
  {
   "cell_type": "markdown",
   "id": "4c906166",
   "metadata": {},
   "source": [
    "The next few lines of code, contain steps followed to create and add a new column to a copy of the dataframe that tells us what cataegory an entry falls into (is it a \"Movie\" or a \"Show\"?)\n",
    "\n",
    "* \"Season\" and \"Chapter\" are the main keywords indicating that a title is from a show"
   ]
  },
  {
   "cell_type": "code",
   "execution_count": 11,
   "id": "754d4482",
   "metadata": {},
   "outputs": [],
   "source": [
    "# Step 1. Make a copy of the original netflix data named \"Netflix_dataCopy\"\n",
    "\n",
    "Netflix_dataCopy = Netflix_data.copy()"
   ]
  },
  {
   "cell_type": "code",
   "execution_count": 12,
   "id": "ae18092f",
   "metadata": {},
   "outputs": [
    {
     "data": {
      "text/html": [
       "<div>\n",
       "<style scoped>\n",
       "    .dataframe tbody tr th:only-of-type {\n",
       "        vertical-align: middle;\n",
       "    }\n",
       "\n",
       "    .dataframe tbody tr th {\n",
       "        vertical-align: top;\n",
       "    }\n",
       "\n",
       "    .dataframe thead th {\n",
       "        text-align: right;\n",
       "    }\n",
       "</style>\n",
       "<table border=\"1\" class=\"dataframe\">\n",
       "  <thead>\n",
       "    <tr style=\"text-align: right;\">\n",
       "      <th></th>\n",
       "      <th>Title</th>\n",
       "      <th>Date</th>\n",
       "      <th>Category</th>\n",
       "    </tr>\n",
       "  </thead>\n",
       "  <tbody>\n",
       "    <tr>\n",
       "      <th>0</th>\n",
       "      <td>Russian Doll: Season 2: Station to Station</td>\n",
       "      <td>5/4/22</td>\n",
       "      <td>True</td>\n",
       "    </tr>\n",
       "    <tr>\n",
       "      <th>1</th>\n",
       "      <td>Russian Doll: Season 2: Brain Drain</td>\n",
       "      <td>5/3/22</td>\n",
       "      <td>True</td>\n",
       "    </tr>\n",
       "    <tr>\n",
       "      <th>2</th>\n",
       "      <td>Russian Doll: Season 2: Coney Island Baby</td>\n",
       "      <td>4/26/22</td>\n",
       "      <td>True</td>\n",
       "    </tr>\n",
       "    <tr>\n",
       "      <th>3</th>\n",
       "      <td>Russian Doll: Season 2: Nowhen</td>\n",
       "      <td>4/26/22</td>\n",
       "      <td>True</td>\n",
       "    </tr>\n",
       "    <tr>\n",
       "      <th>4</th>\n",
       "      <td>Eternally Confused and Eager for Love: Season ...</td>\n",
       "      <td>4/10/22</td>\n",
       "      <td>True</td>\n",
       "    </tr>\n",
       "    <tr>\n",
       "      <th>...</th>\n",
       "      <td>...</td>\n",
       "      <td>...</td>\n",
       "      <td>...</td>\n",
       "    </tr>\n",
       "    <tr>\n",
       "      <th>1967</th>\n",
       "      <td>The OA: Part I: Chapter 4: Away</td>\n",
       "      <td>12/22/16</td>\n",
       "      <td>True</td>\n",
       "    </tr>\n",
       "    <tr>\n",
       "      <th>1968</th>\n",
       "      <td>The OA: Part I: Chapter 3: Champion</td>\n",
       "      <td>12/22/16</td>\n",
       "      <td>True</td>\n",
       "    </tr>\n",
       "    <tr>\n",
       "      <th>1969</th>\n",
       "      <td>The OA: Part I: Chapter 2: New Colossus</td>\n",
       "      <td>12/22/16</td>\n",
       "      <td>True</td>\n",
       "    </tr>\n",
       "    <tr>\n",
       "      <th>1970</th>\n",
       "      <td>The OA: Part I: Chapter 1: Homecoming</td>\n",
       "      <td>12/22/16</td>\n",
       "      <td>True</td>\n",
       "    </tr>\n",
       "    <tr>\n",
       "      <th>1971</th>\n",
       "      <td>The Imitation Game</td>\n",
       "      <td>12/21/16</td>\n",
       "      <td>False</td>\n",
       "    </tr>\n",
       "  </tbody>\n",
       "</table>\n",
       "<p>1972 rows × 3 columns</p>\n",
       "</div>"
      ],
      "text/plain": [
       "                                                  Title      Date  Category\n",
       "0            Russian Doll: Season 2: Station to Station    5/4/22      True\n",
       "1                   Russian Doll: Season 2: Brain Drain    5/3/22      True\n",
       "2             Russian Doll: Season 2: Coney Island Baby   4/26/22      True\n",
       "3                        Russian Doll: Season 2: Nowhen   4/26/22      True\n",
       "4     Eternally Confused and Eager for Love: Season ...   4/10/22      True\n",
       "...                                                 ...       ...       ...\n",
       "1967                    The OA: Part I: Chapter 4: Away  12/22/16      True\n",
       "1968                The OA: Part I: Chapter 3: Champion  12/22/16      True\n",
       "1969            The OA: Part I: Chapter 2: New Colossus  12/22/16      True\n",
       "1970              The OA: Part I: Chapter 1: Homecoming  12/22/16      True\n",
       "1971                                 The Imitation Game  12/21/16     False\n",
       "\n",
       "[1972 rows x 3 columns]"
      ]
     },
     "execution_count": 12,
     "metadata": {},
     "output_type": "execute_result"
    }
   ],
   "source": [
    "# Step 2a. Create a new column \"Category\" that contains a boolean value depending on whether a title is identified as a Show or not.\n",
    "# Step 2b. Using .apply(), identify whether each title is a show\n",
    "# Step 2c. View your dataframe\n",
    "\n",
    "Netflix_dataCopy[\"Category\"] = Netflix_data[\"Title\"].apply(lambda title: \"Season\" in title or \"Chapter\" in title)\n",
    "Netflix_dataCopy"
   ]
  },
  {
   "cell_type": "code",
   "execution_count": 13,
   "id": "5d8dc15d",
   "metadata": {},
   "outputs": [
    {
     "data": {
      "text/plain": [
       "dtype('bool')"
      ]
     },
     "execution_count": 13,
     "metadata": {},
     "output_type": "execute_result"
    }
   ],
   "source": [
    "Netflix_dataCopy['Category'].dtype"
   ]
  },
  {
   "cell_type": "code",
   "execution_count": 14,
   "id": "c00f2e06",
   "metadata": {},
   "outputs": [
    {
     "data": {
      "text/plain": [
       "dtype('O')"
      ]
     },
     "execution_count": 14,
     "metadata": {},
     "output_type": "execute_result"
    }
   ],
   "source": [
    "# Step 3. Convert the data type of the \"Category\" column to string to allow use of logical operations\n",
    "\n",
    "Netflix_dataCopy[\"Category\"] = Netflix_dataCopy[\"Category\"].map({True: 'True', False: \"False\"})\n",
    "Netflix_dataCopy[\"Category\"].dtypes"
   ]
  },
  {
   "cell_type": "code",
   "execution_count": 15,
   "id": "ceff4c15",
   "metadata": {},
   "outputs": [
    {
     "name": "stdout",
     "output_type": "stream",
     "text": [
      "['Show', 'Show', 'Show', 'Show', 'Show', 'Show', 'Show', 'Show', 'Show', 'Show', 'Show', 'Show', 'Show', 'Show', 'Show', 'Show', 'Show', 'Show', 'Show', 'Show', 'Show', 'Show', 'Show', 'Show', 'Show', 'Show', 'Movie', 'Show', 'Show', 'Movie', 'Movie', 'Show', 'Show', 'Show', 'Show', 'Show', 'Show', 'Show', 'Show', 'Show', 'Show', 'Show', 'Movie', 'Movie', 'Movie', 'Show', 'Show', 'Show', 'Show', 'Show', 'Show', 'Show', 'Show', 'Show', 'Show', 'Show', 'Show', 'Show', 'Show', 'Show', 'Show', 'Show', 'Movie', 'Show', 'Show', 'Show', 'Show', 'Show', 'Show', 'Show', 'Show', 'Show', 'Show', 'Show', 'Show', 'Show', 'Show', 'Show', 'Show', 'Show', 'Show', 'Show', 'Show', 'Show', 'Show', 'Show', 'Movie', 'Show', 'Show', 'Movie', 'Movie', 'Show', 'Show', 'Show', 'Show', 'Show', 'Show', 'Show', 'Show', 'Show', 'Show', 'Show', 'Show', 'Show', 'Movie', 'Show', 'Show', 'Show', 'Show', 'Show', 'Show', 'Show', 'Show', 'Show', 'Show', 'Show', 'Show', 'Show', 'Show', 'Show', 'Show', 'Show', 'Show', 'Show', 'Show', 'Show', 'Show', 'Show', 'Show', 'Show', 'Show', 'Show', 'Show', 'Show', 'Show', 'Show', 'Show', 'Show', 'Show', 'Show', 'Show', 'Show', 'Show', 'Show', 'Show', 'Show', 'Show', 'Show', 'Show', 'Show', 'Show', 'Show', 'Show', 'Show', 'Show', 'Show', 'Show', 'Show', 'Show', 'Show', 'Show', 'Show', 'Show', 'Show', 'Show', 'Show', 'Show', 'Show', 'Show', 'Show', 'Show', 'Show', 'Show', 'Show', 'Show', 'Show', 'Show', 'Show', 'Show', 'Show', 'Show', 'Show', 'Show', 'Show', 'Show', 'Show', 'Show', 'Show', 'Show', 'Show', 'Show', 'Show', 'Show', 'Show', 'Show', 'Show', 'Show', 'Show', 'Show', 'Show', 'Show', 'Show', 'Show', 'Show', 'Show', 'Show', 'Show', 'Show', 'Show', 'Show', 'Show', 'Show', 'Show', 'Show', 'Show', 'Show', 'Show', 'Show', 'Show', 'Show', 'Show', 'Show', 'Show', 'Show', 'Show', 'Show', 'Show', 'Show', 'Show', 'Show', 'Show', 'Show', 'Show', 'Show', 'Show', 'Show', 'Show', 'Show', 'Show', 'Show', 'Show', 'Show', 'Show', 'Show', 'Show', 'Show', 'Show', 'Show', 'Show', 'Show', 'Show', 'Show', 'Show', 'Show', 'Show', 'Show', 'Show', 'Show', 'Show', 'Show', 'Show', 'Show', 'Show', 'Show', 'Show', 'Show', 'Show', 'Show', 'Show', 'Show', 'Show', 'Show', 'Show', 'Show', 'Show', 'Show', 'Show', 'Show', 'Show', 'Show', 'Show', 'Show', 'Show', 'Show', 'Show', 'Show', 'Show', 'Show', 'Show', 'Show', 'Show', 'Show', 'Show', 'Show', 'Show', 'Show', 'Show', 'Show', 'Show', 'Show', 'Show', 'Show', 'Show', 'Show', 'Show', 'Show', 'Show', 'Show', 'Show', 'Show', 'Show', 'Show', 'Show', 'Show', 'Show', 'Show', 'Show', 'Show', 'Show', 'Show', 'Show', 'Show', 'Show', 'Show', 'Show', 'Show', 'Show', 'Show', 'Show', 'Show', 'Show', 'Show', 'Show', 'Show', 'Show', 'Show', 'Show', 'Show', 'Show', 'Show', 'Show', 'Show', 'Show', 'Show', 'Show', 'Show', 'Show', 'Show', 'Show', 'Show', 'Show', 'Show', 'Show', 'Show', 'Show', 'Show', 'Show', 'Show', 'Show', 'Show', 'Show', 'Show', 'Show', 'Show', 'Show', 'Show', 'Show', 'Show', 'Show', 'Show', 'Show', 'Show', 'Show', 'Show', 'Show', 'Show', 'Show', 'Show', 'Show', 'Show', 'Show', 'Show', 'Show', 'Movie', 'Show', 'Show', 'Show', 'Show', 'Show', 'Show', 'Show', 'Show', 'Show', 'Movie', 'Show', 'Show', 'Show', 'Show', 'Show', 'Show', 'Show', 'Show', 'Show', 'Show', 'Movie', 'Movie', 'Show', 'Show', 'Movie', 'Show', 'Show', 'Show', 'Show', 'Show', 'Show', 'Show', 'Show', 'Show', 'Show', 'Show', 'Show', 'Show', 'Show', 'Show', 'Show', 'Show', 'Show', 'Show', 'Show', 'Show', 'Show', 'Show', 'Show', 'Show', 'Show', 'Show', 'Show', 'Show', 'Movie', 'Movie', 'Show', 'Show', 'Show', 'Show', 'Show', 'Show', 'Show', 'Show', 'Show', 'Show', 'Show', 'Show', 'Show', 'Show', 'Show', 'Show', 'Show', 'Show', 'Show', 'Show', 'Show', 'Show', 'Show', 'Movie', 'Show', 'Show', 'Show', 'Show', 'Show', 'Show', 'Show', 'Show', 'Show', 'Show', 'Show', 'Show', 'Show', 'Show', 'Movie', 'Show', 'Show', 'Show', 'Movie', 'Show', 'Movie', 'Show', 'Show', 'Show', 'Show', 'Show', 'Show', 'Show', 'Show', 'Show', 'Show', 'Show', 'Show', 'Show', 'Movie', 'Show', 'Show', 'Show', 'Show', 'Show', 'Show', 'Show', 'Movie', 'Show', 'Show', 'Show', 'Show', 'Show', 'Movie', 'Movie', 'Show', 'Show', 'Show', 'Show', 'Show', 'Show', 'Show', 'Show', 'Show', 'Show', 'Show', 'Show', 'Show', 'Show', 'Movie', 'Movie', 'Movie', 'Movie', 'Movie', 'Show', 'Show', 'Show', 'Show', 'Show', 'Show', 'Show', 'Show', 'Show', 'Show', 'Show', 'Show', 'Show', 'Show', 'Show', 'Show', 'Show', 'Movie', 'Show', 'Show', 'Show', 'Show', 'Show', 'Show', 'Show', 'Show', 'Show', 'Show', 'Show', 'Show', 'Show', 'Show', 'Show', 'Show', 'Show', 'Show', 'Show', 'Show', 'Show', 'Show', 'Show', 'Show', 'Show', 'Show', 'Show', 'Show', 'Show', 'Show', 'Show', 'Show', 'Show', 'Show', 'Show', 'Show', 'Show', 'Show', 'Show', 'Show', 'Show', 'Show', 'Show', 'Show', 'Show', 'Show', 'Show', 'Show', 'Show', 'Show', 'Show', 'Show', 'Show', 'Show', 'Show', 'Show', 'Show', 'Show', 'Show', 'Show', 'Show', 'Show', 'Show', 'Movie', 'Show', 'Show', 'Show', 'Show', 'Show', 'Show', 'Show', 'Show', 'Show', 'Show', 'Show', 'Show', 'Show', 'Show', 'Show', 'Movie', 'Show', 'Show', 'Show', 'Show', 'Show', 'Show', 'Show', 'Show', 'Show', 'Show', 'Show', 'Show', 'Show', 'Show', 'Show', 'Show', 'Show', 'Show', 'Show', 'Show', 'Show', 'Show', 'Show', 'Show', 'Show', 'Show', 'Show', 'Show', 'Show', 'Show', 'Show', 'Show', 'Show', 'Show', 'Show', 'Show', 'Show', 'Show', 'Show', 'Show', 'Show', 'Show', 'Show', 'Show', 'Show', 'Show', 'Show', 'Show', 'Show', 'Show', 'Show', 'Movie', 'Movie', 'Movie', 'Show', 'Show', 'Show', 'Show', 'Show', 'Show', 'Show', 'Show', 'Show', 'Show', 'Show', 'Show', 'Show', 'Show', 'Show', 'Show', 'Show', 'Movie', 'Movie', 'Movie', 'Movie', 'Movie', 'Movie', 'Movie', 'Movie', 'Movie', 'Movie', 'Show', 'Show', 'Movie', 'Show', 'Show', 'Show', 'Show', 'Show', 'Show', 'Show', 'Movie', 'Show', 'Show', 'Show', 'Show', 'Show', 'Show', 'Show', 'Show', 'Show', 'Show', 'Show', 'Show', 'Show', 'Show', 'Show', 'Show', 'Show', 'Show', 'Show', 'Show', 'Show', 'Show', 'Show', 'Show', 'Show', 'Show', 'Show', 'Show', 'Show', 'Show', 'Show', 'Show', 'Movie', 'Show', 'Show', 'Show', 'Movie', 'Show', 'Show', 'Show', 'Show', 'Show', 'Show', 'Show', 'Show', 'Show', 'Show', 'Show', 'Show', 'Show', 'Show', 'Show', 'Show', 'Show', 'Show', 'Show', 'Show', 'Show', 'Show', 'Show', 'Show', 'Show', 'Show', 'Show', 'Show', 'Show', 'Show', 'Show', 'Show', 'Show', 'Movie', 'Show', 'Show', 'Show', 'Show', 'Show', 'Show', 'Show', 'Show', 'Show', 'Show', 'Show', 'Show', 'Show', 'Show', 'Show', 'Show', 'Show', 'Show', 'Show', 'Show', 'Show', 'Show', 'Show', 'Show', 'Show', 'Show', 'Show', 'Show', 'Show', 'Show', 'Show', 'Show', 'Show', 'Show', 'Show', 'Movie', 'Movie', 'Show', 'Show', 'Movie', 'Show', 'Show', 'Show', 'Show', 'Show', 'Show', 'Show', 'Show', 'Show', 'Show', 'Show', 'Show', 'Show', 'Show', 'Show', 'Show', 'Show', 'Show', 'Movie', 'Movie', 'Show', 'Show', 'Show', 'Show', 'Show', 'Show', 'Show', 'Show', 'Show', 'Show', 'Show', 'Show', 'Show', 'Show', 'Show', 'Movie', 'Show', 'Movie', 'Movie', 'Show', 'Show', 'Show', 'Show', 'Show', 'Show', 'Show', 'Show', 'Show', 'Show', 'Show', 'Show', 'Show', 'Show', 'Show', 'Show', 'Show', 'Show', 'Show', 'Show', 'Show', 'Show', 'Show', 'Show', 'Show', 'Show', 'Show', 'Show', 'Show', 'Show', 'Show', 'Show', 'Show', 'Show', 'Show', 'Show', 'Show', 'Show', 'Show', 'Show', 'Show', 'Show', 'Show', 'Show', 'Show', 'Show', 'Show', 'Show', 'Show', 'Show', 'Show', 'Show', 'Show', 'Show', 'Show', 'Show', 'Show', 'Show', 'Movie', 'Movie', 'Show', 'Show', 'Show', 'Show', 'Show', 'Show', 'Show', 'Show', 'Show', 'Show', 'Movie', 'Movie', 'Movie', 'Show', 'Show', 'Show', 'Show', 'Show', 'Show', 'Show', 'Show', 'Show', 'Show', 'Show', 'Show', 'Show', 'Show', 'Show', 'Show', 'Show', 'Show', 'Show', 'Show', 'Show', 'Show', 'Show', 'Show', 'Show', 'Show', 'Show', 'Show', 'Show', 'Show', 'Show', 'Show', 'Show', 'Show', 'Movie', 'Movie', 'Show', 'Show', 'Show', 'Show', 'Show', 'Show', 'Show', 'Show', 'Show', 'Show', 'Movie', 'Show', 'Show', 'Show', 'Show', 'Show', 'Show', 'Show', 'Show', 'Show', 'Show', 'Show', 'Show', 'Show', 'Show', 'Movie', 'Show', 'Show', 'Show', 'Show', 'Show', 'Show', 'Show', 'Show', 'Show', 'Show', 'Show', 'Show', 'Show', 'Show', 'Show', 'Show', 'Show', 'Show', 'Show', 'Show', 'Show', 'Show', 'Show', 'Show', 'Show', 'Movie', 'Movie', 'Movie', 'Show', 'Show', 'Show', 'Show', 'Show', 'Show', 'Show', 'Show', 'Movie', 'Movie', 'Movie', 'Show', 'Show', 'Show', 'Show', 'Movie', 'Movie', 'Show', 'Movie', 'Show', 'Show', 'Show', 'Show', 'Movie', 'Movie', 'Movie', 'Show', 'Show', 'Show', 'Movie', 'Movie', 'Movie', 'Show', 'Show', 'Movie', 'Movie', 'Show', 'Movie', 'Show', 'Show', 'Show', 'Show', 'Show', 'Show', 'Show', 'Show', 'Show', 'Show', 'Show', 'Show', 'Show', 'Show', 'Movie', 'Movie', 'Show', 'Show', 'Show', 'Show', 'Show', 'Show', 'Show', 'Show', 'Show', 'Show', 'Show', 'Show', 'Show', 'Show', 'Show', 'Show', 'Show', 'Show', 'Show', 'Show', 'Show', 'Show', 'Show', 'Show', 'Show', 'Show', 'Show', 'Show', 'Show', 'Show', 'Show', 'Show', 'Show', 'Show', 'Show', 'Show', 'Show', 'Show', 'Show', 'Show', 'Show', 'Show', 'Show', 'Show', 'Show', 'Show', 'Show', 'Show', 'Show', 'Movie', 'Show', 'Show', 'Show', 'Show', 'Show', 'Show', 'Show', 'Show', 'Show', 'Show', 'Show', 'Show', 'Show', 'Show', 'Show', 'Show', 'Show', 'Show', 'Show', 'Show', 'Show', 'Show', 'Show', 'Show', 'Show', 'Show', 'Show', 'Show', 'Movie', 'Show', 'Show', 'Show', 'Show', 'Show', 'Show', 'Show', 'Show', 'Show', 'Show', 'Show', 'Show', 'Show', 'Show', 'Show', 'Show', 'Show', 'Show', 'Show', 'Show', 'Show', 'Show', 'Movie', 'Show', 'Show', 'Show', 'Show', 'Show', 'Show', 'Show', 'Show', 'Show', 'Show', 'Show', 'Show', 'Show', 'Show', 'Show', 'Show', 'Show', 'Show', 'Show', 'Show', 'Show', 'Show', 'Show', 'Show', 'Movie', 'Show', 'Show', 'Show', 'Show', 'Show', 'Show', 'Show', 'Show', 'Show', 'Movie', 'Show', 'Show', 'Show', 'Show', 'Show', 'Show', 'Show', 'Show', 'Show', 'Show', 'Show', 'Show', 'Show', 'Show', 'Show', 'Show', 'Show', 'Show', 'Show', 'Movie', 'Show', 'Show', 'Show', 'Show', 'Show', 'Show', 'Show', 'Show', 'Show', 'Show', 'Show', 'Show', 'Show', 'Show', 'Show', 'Show', 'Show', 'Show', 'Show', 'Show', 'Show', 'Show', 'Show', 'Show', 'Show', 'Show', 'Show', 'Show', 'Show', 'Movie', 'Movie', 'Movie', 'Movie', 'Show', 'Show', 'Show', 'Show', 'Show', 'Show', 'Show', 'Movie', 'Movie', 'Movie', 'Movie', 'Movie', 'Show', 'Show', 'Show', 'Show', 'Show', 'Show', 'Show', 'Show', 'Show', 'Show', 'Show', 'Show', 'Show', 'Movie', 'Show', 'Movie', 'Movie', 'Movie', 'Movie', 'Movie', 'Show', 'Show', 'Show', 'Show', 'Show', 'Show', 'Show', 'Show', 'Show', 'Show', 'Show', 'Show', 'Show', 'Show', 'Movie', 'Movie', 'Movie', 'Show', 'Movie', 'Movie', 'Movie', 'Show', 'Show', 'Show', 'Show', 'Show', 'Show', 'Show', 'Show', 'Show', 'Show', 'Show', 'Show', 'Show', 'Show', 'Show', 'Show', 'Show', 'Show', 'Show', 'Show', 'Show', 'Show', 'Movie', 'Show', 'Show', 'Show', 'Show', 'Show', 'Show', 'Show', 'Show', 'Show', 'Show', 'Show', 'Show', 'Show', 'Show', 'Show', 'Show', 'Show', 'Show', 'Show', 'Show', 'Show', 'Show', 'Show', 'Show', 'Show', 'Show', 'Show', 'Show', 'Show', 'Show', 'Show', 'Show', 'Show', 'Show', 'Show', 'Show', 'Show', 'Show', 'Show', 'Show', 'Show', 'Show', 'Show', 'Movie', 'Show', 'Movie', 'Show', 'Show', 'Movie', 'Show', 'Show', 'Show', 'Show', 'Show', 'Show', 'Show', 'Show', 'Show', 'Show', 'Show', 'Show', 'Show', 'Show', 'Show', 'Show', 'Show', 'Show', 'Show', 'Show', 'Show', 'Show', 'Show', 'Show', 'Show', 'Show', 'Show', 'Show', 'Show', 'Show', 'Show', 'Show', 'Show', 'Show', 'Show', 'Show', 'Show', 'Show', 'Show', 'Show', 'Show', 'Show', 'Show', 'Show', 'Show', 'Show', 'Show', 'Show', 'Show', 'Show', 'Show', 'Movie', 'Show', 'Show', 'Show', 'Show', 'Show', 'Show', 'Movie', 'Show', 'Show', 'Show', 'Show', 'Show', 'Show', 'Show', 'Show', 'Show', 'Show', 'Show', 'Show', 'Show', 'Show', 'Movie', 'Movie', 'Show', 'Show', 'Show', 'Show', 'Show', 'Show', 'Show', 'Show', 'Show', 'Show', 'Show', 'Show', 'Show', 'Show', 'Show', 'Show', 'Show', 'Show', 'Show', 'Show', 'Movie', 'Movie', 'Movie', 'Movie', 'Movie', 'Movie', 'Movie', 'Show', 'Show', 'Show', 'Show', 'Show', 'Show', 'Show', 'Show', 'Show', 'Show', 'Show', 'Show', 'Show', 'Show', 'Show', 'Show', 'Show', 'Show', 'Show', 'Show', 'Show', 'Show', 'Show', 'Show', 'Show', 'Show', 'Show', 'Show', 'Show', 'Show', 'Show', 'Show', 'Show', 'Show', 'Show', 'Show', 'Movie', 'Show', 'Show', 'Show', 'Show', 'Show', 'Show', 'Show', 'Show', 'Show', 'Movie', 'Show', 'Show', 'Movie', 'Movie', 'Show', 'Show', 'Show', 'Show', 'Movie', 'Show', 'Show', 'Show', 'Show', 'Show', 'Show', 'Show', 'Movie', 'Show', 'Show', 'Show', 'Show', 'Show', 'Show', 'Show', 'Show', 'Show', 'Show', 'Show', 'Show', 'Show', 'Show', 'Show', 'Show', 'Show', 'Show', 'Show', 'Show', 'Show', 'Show', 'Show', 'Movie', 'Show', 'Show', 'Show', 'Show', 'Show', 'Show', 'Show', 'Show', 'Show', 'Show', 'Movie', 'Movie', 'Movie', 'Show', 'Show', 'Show', 'Show', 'Movie', 'Show', 'Show', 'Show', 'Show', 'Show', 'Show', 'Show', 'Show', 'Show', 'Show', 'Show', 'Show', 'Show', 'Show', 'Show', 'Show', 'Show', 'Movie', 'Show', 'Show', 'Show', 'Show', 'Show', 'Show', 'Show', 'Show', 'Show', 'Show', 'Show', 'Show', 'Show', 'Movie', 'Show', 'Show', 'Show', 'Show', 'Show', 'Show', 'Show', 'Show', 'Show', 'Show', 'Show', 'Show', 'Show', 'Show', 'Show', 'Show', 'Show', 'Show', 'Show', 'Show', 'Show', 'Show', 'Show', 'Show', 'Show', 'Show', 'Show', 'Show', 'Show', 'Show', 'Movie', 'Movie', 'Show', 'Show', 'Movie', 'Show', 'Show', 'Show', 'Show', 'Show', 'Show', 'Show', 'Show', 'Show', 'Show', 'Show', 'Show', 'Show', 'Show', 'Show', 'Show', 'Show', 'Show', 'Show', 'Show', 'Show', 'Show', 'Show', 'Show', 'Show', 'Show', 'Show', 'Show', 'Movie', 'Show', 'Show', 'Show', 'Show', 'Movie', 'Show', 'Show', 'Show', 'Show', 'Show', 'Show', 'Show', 'Show', 'Show', 'Show', 'Show', 'Show', 'Show', 'Show', 'Movie', 'Show', 'Show', 'Show', 'Show', 'Show', 'Show', 'Show', 'Movie', 'Movie', 'Show', 'Show', 'Show', 'Show', 'Show', 'Show', 'Show', 'Show', 'Show', 'Show', 'Show', 'Show', 'Show', 'Show', 'Show', 'Show', 'Show', 'Show', 'Show', 'Show', 'Show', 'Movie', 'Show', 'Show', 'Show', 'Show', 'Show', 'Show', 'Show', 'Show', 'Show', 'Show', 'Show', 'Movie', 'Show', 'Show', 'Show', 'Show', 'Show', 'Show', 'Show', 'Show', 'Show', 'Show', 'Show', 'Show', 'Show', 'Show', 'Show', 'Show', 'Show', 'Show', 'Show', 'Show', 'Show', 'Show', 'Show', 'Show', 'Show', 'Show', 'Show', 'Show', 'Show', 'Show', 'Show', 'Show', 'Show', 'Show', 'Show', 'Movie', 'Movie', 'Movie', 'Show', 'Show', 'Show', 'Show', 'Show', 'Show', 'Show', 'Show', 'Show', 'Movie', 'Show', 'Movie', 'Movie', 'Show', 'Show', 'Show', 'Show', 'Show', 'Show', 'Movie', 'Movie', 'Show', 'Show', 'Show', 'Movie', 'Show', 'Show', 'Show', 'Movie', 'Show', 'Movie', 'Show', 'Show', 'Show', 'Show', 'Show', 'Show', 'Show', 'Show', 'Show', 'Show', 'Show', 'Show', 'Show', 'Show', 'Show', 'Show', 'Show', 'Show', 'Show', 'Show', 'Show', 'Show', 'Movie', 'Show', 'Show', 'Show', 'Show', 'Show', 'Show', 'Show', 'Movie', 'Movie', 'Movie', 'Show', 'Show', 'Movie', 'Show', 'Show', 'Show', 'Show', 'Show', 'Movie', 'Show', 'Show', 'Show', 'Movie', 'Show', 'Show', 'Show', 'Movie', 'Movie', 'Movie', 'Show', 'Movie', 'Show', 'Movie', 'Show', 'Show', 'Show', 'Show', 'Show', 'Show', 'Show', 'Show', 'Show', 'Show', 'Show', 'Show', 'Show', 'Show', 'Show', 'Movie', 'Show', 'Show', 'Show', 'Show', 'Movie', 'Show', 'Show', 'Show', 'Show', 'Show', 'Show', 'Show', 'Show', 'Show', 'Show', 'Movie', 'Show', 'Show', 'Show', 'Show', 'Show', 'Show', 'Show', 'Show', 'Show', 'Show', 'Show', 'Show', 'Show', 'Show', 'Show', 'Show', 'Show', 'Show', 'Show', 'Show', 'Movie', 'Movie', 'Movie', 'Movie', 'Movie', 'Show', 'Movie', 'Movie', 'Movie', 'Movie', 'Show', 'Show', 'Show', 'Show', 'Show', 'Show', 'Show', 'Movie', 'Show', 'Show', 'Show', 'Show', 'Movie']"
     ]
    },
    {
     "name": "stdout",
     "output_type": "stream",
     "text": [
      "\n"
     ]
    }
   ],
   "source": [
    "# Step 4a. Create an empty list named \"type\"\n",
    "# Step 4b. Populate the list with the type of film (show or movie) for each entity by iterating over each row of and appending \"Show\" if the Category is True and \"Movie\" if it is not\n",
    "\n",
    "\n",
    "type = []\n",
    "for row in Netflix_dataCopy[\"Category\"]:\n",
    "    if row == 'True':\n",
    "        type.append('Show')\n",
    "    else:\n",
    "        type.append(\"Movie\")\n",
    "\n",
    "print(type)\n",
    "        \n",
    "       "
   ]
  },
  {
   "cell_type": "code",
   "execution_count": 16,
   "id": "e0c01bdb",
   "metadata": {},
   "outputs": [
    {
     "name": "stdout",
     "output_type": "stream",
     "text": [
      "Counter({'Show': 1781, 'Movie': 191})\n"
     ]
    }
   ],
   "source": [
    "# import Counter fron collections\n",
    "# Count the number of unique value\n",
    "\n",
    "from collections import Counter\n",
    "print(Counter(type))\n"
   ]
  },
  {
   "cell_type": "code",
   "execution_count": 17,
   "id": "8712e19e",
   "metadata": {},
   "outputs": [
    {
     "data": {
      "text/html": [
       "<div>\n",
       "<style scoped>\n",
       "    .dataframe tbody tr th:only-of-type {\n",
       "        vertical-align: middle;\n",
       "    }\n",
       "\n",
       "    .dataframe tbody tr th {\n",
       "        vertical-align: top;\n",
       "    }\n",
       "\n",
       "    .dataframe thead th {\n",
       "        text-align: right;\n",
       "    }\n",
       "</style>\n",
       "<table border=\"1\" class=\"dataframe\">\n",
       "  <thead>\n",
       "    <tr style=\"text-align: right;\">\n",
       "      <th></th>\n",
       "      <th>Title</th>\n",
       "      <th>Date</th>\n",
       "      <th>Category</th>\n",
       "      <th>Movie Type</th>\n",
       "    </tr>\n",
       "  </thead>\n",
       "  <tbody>\n",
       "    <tr>\n",
       "      <th>0</th>\n",
       "      <td>Russian Doll: Season 2: Station to Station</td>\n",
       "      <td>5/4/22</td>\n",
       "      <td>True</td>\n",
       "      <td>Show</td>\n",
       "    </tr>\n",
       "    <tr>\n",
       "      <th>1</th>\n",
       "      <td>Russian Doll: Season 2: Brain Drain</td>\n",
       "      <td>5/3/22</td>\n",
       "      <td>True</td>\n",
       "      <td>Show</td>\n",
       "    </tr>\n",
       "    <tr>\n",
       "      <th>2</th>\n",
       "      <td>Russian Doll: Season 2: Coney Island Baby</td>\n",
       "      <td>4/26/22</td>\n",
       "      <td>True</td>\n",
       "      <td>Show</td>\n",
       "    </tr>\n",
       "    <tr>\n",
       "      <th>3</th>\n",
       "      <td>Russian Doll: Season 2: Nowhen</td>\n",
       "      <td>4/26/22</td>\n",
       "      <td>True</td>\n",
       "      <td>Show</td>\n",
       "    </tr>\n",
       "    <tr>\n",
       "      <th>4</th>\n",
       "      <td>Eternally Confused and Eager for Love: Season ...</td>\n",
       "      <td>4/10/22</td>\n",
       "      <td>True</td>\n",
       "      <td>Show</td>\n",
       "    </tr>\n",
       "    <tr>\n",
       "      <th>...</th>\n",
       "      <td>...</td>\n",
       "      <td>...</td>\n",
       "      <td>...</td>\n",
       "      <td>...</td>\n",
       "    </tr>\n",
       "    <tr>\n",
       "      <th>1967</th>\n",
       "      <td>The OA: Part I: Chapter 4: Away</td>\n",
       "      <td>12/22/16</td>\n",
       "      <td>True</td>\n",
       "      <td>Show</td>\n",
       "    </tr>\n",
       "    <tr>\n",
       "      <th>1968</th>\n",
       "      <td>The OA: Part I: Chapter 3: Champion</td>\n",
       "      <td>12/22/16</td>\n",
       "      <td>True</td>\n",
       "      <td>Show</td>\n",
       "    </tr>\n",
       "    <tr>\n",
       "      <th>1969</th>\n",
       "      <td>The OA: Part I: Chapter 2: New Colossus</td>\n",
       "      <td>12/22/16</td>\n",
       "      <td>True</td>\n",
       "      <td>Show</td>\n",
       "    </tr>\n",
       "    <tr>\n",
       "      <th>1970</th>\n",
       "      <td>The OA: Part I: Chapter 1: Homecoming</td>\n",
       "      <td>12/22/16</td>\n",
       "      <td>True</td>\n",
       "      <td>Show</td>\n",
       "    </tr>\n",
       "    <tr>\n",
       "      <th>1971</th>\n",
       "      <td>The Imitation Game</td>\n",
       "      <td>12/21/16</td>\n",
       "      <td>False</td>\n",
       "      <td>Movie</td>\n",
       "    </tr>\n",
       "  </tbody>\n",
       "</table>\n",
       "<p>1972 rows × 4 columns</p>\n",
       "</div>"
      ],
      "text/plain": [
       "                                                  Title      Date Category  \\\n",
       "0            Russian Doll: Season 2: Station to Station    5/4/22     True   \n",
       "1                   Russian Doll: Season 2: Brain Drain    5/3/22     True   \n",
       "2             Russian Doll: Season 2: Coney Island Baby   4/26/22     True   \n",
       "3                        Russian Doll: Season 2: Nowhen   4/26/22     True   \n",
       "4     Eternally Confused and Eager for Love: Season ...   4/10/22     True   \n",
       "...                                                 ...       ...      ...   \n",
       "1967                    The OA: Part I: Chapter 4: Away  12/22/16     True   \n",
       "1968                The OA: Part I: Chapter 3: Champion  12/22/16     True   \n",
       "1969            The OA: Part I: Chapter 2: New Colossus  12/22/16     True   \n",
       "1970              The OA: Part I: Chapter 1: Homecoming  12/22/16     True   \n",
       "1971                                 The Imitation Game  12/21/16    False   \n",
       "\n",
       "     Movie Type  \n",
       "0          Show  \n",
       "1          Show  \n",
       "2          Show  \n",
       "3          Show  \n",
       "4          Show  \n",
       "...         ...  \n",
       "1967       Show  \n",
       "1968       Show  \n",
       "1969       Show  \n",
       "1970       Show  \n",
       "1971      Movie  \n",
       "\n",
       "[1972 rows x 4 columns]"
      ]
     },
     "metadata": {},
     "output_type": "display_data"
    }
   ],
   "source": [
    "# Step 5. Add a new column named \"Movie Type\" to the dataframe that is populated with the list \"type\"\n",
    "\n",
    "Netflix_dataCopy[\"Movie Type\"] = type\n",
    "display(Netflix_dataCopy)"
   ]
  },
  {
   "cell_type": "code",
   "execution_count": 18,
   "id": "7ea5e9c1",
   "metadata": {},
   "outputs": [
    {
     "data": {
      "text/html": [
       "<div>\n",
       "<style scoped>\n",
       "    .dataframe tbody tr th:only-of-type {\n",
       "        vertical-align: middle;\n",
       "    }\n",
       "\n",
       "    .dataframe tbody tr th {\n",
       "        vertical-align: top;\n",
       "    }\n",
       "\n",
       "    .dataframe thead th {\n",
       "        text-align: right;\n",
       "    }\n",
       "</style>\n",
       "<table border=\"1\" class=\"dataframe\">\n",
       "  <thead>\n",
       "    <tr style=\"text-align: right;\">\n",
       "      <th></th>\n",
       "      <th>Title</th>\n",
       "      <th>Date</th>\n",
       "      <th>Category</th>\n",
       "      <th>Movie Type</th>\n",
       "    </tr>\n",
       "  </thead>\n",
       "  <tbody>\n",
       "    <tr>\n",
       "      <th>0</th>\n",
       "      <td>Russian Doll: Season 2: Station to Station</td>\n",
       "      <td>5/4/22</td>\n",
       "      <td>True</td>\n",
       "      <td>Show</td>\n",
       "    </tr>\n",
       "    <tr>\n",
       "      <th>1</th>\n",
       "      <td>Russian Doll: Season 2: Brain Drain</td>\n",
       "      <td>5/3/22</td>\n",
       "      <td>True</td>\n",
       "      <td>Show</td>\n",
       "    </tr>\n",
       "    <tr>\n",
       "      <th>2</th>\n",
       "      <td>Russian Doll: Season 2: Coney Island Baby</td>\n",
       "      <td>4/26/22</td>\n",
       "      <td>True</td>\n",
       "      <td>Show</td>\n",
       "    </tr>\n",
       "    <tr>\n",
       "      <th>3</th>\n",
       "      <td>Russian Doll: Season 2: Nowhen</td>\n",
       "      <td>4/26/22</td>\n",
       "      <td>True</td>\n",
       "      <td>Show</td>\n",
       "    </tr>\n",
       "    <tr>\n",
       "      <th>4</th>\n",
       "      <td>Eternally Confused and Eager for Love: Season ...</td>\n",
       "      <td>4/10/22</td>\n",
       "      <td>True</td>\n",
       "      <td>Show</td>\n",
       "    </tr>\n",
       "    <tr>\n",
       "      <th>...</th>\n",
       "      <td>...</td>\n",
       "      <td>...</td>\n",
       "      <td>...</td>\n",
       "      <td>...</td>\n",
       "    </tr>\n",
       "    <tr>\n",
       "      <th>1967</th>\n",
       "      <td>The OA: Part I: Chapter 4: Away</td>\n",
       "      <td>12/22/16</td>\n",
       "      <td>True</td>\n",
       "      <td>Show</td>\n",
       "    </tr>\n",
       "    <tr>\n",
       "      <th>1968</th>\n",
       "      <td>The OA: Part I: Chapter 3: Champion</td>\n",
       "      <td>12/22/16</td>\n",
       "      <td>True</td>\n",
       "      <td>Show</td>\n",
       "    </tr>\n",
       "    <tr>\n",
       "      <th>1969</th>\n",
       "      <td>The OA: Part I: Chapter 2: New Colossus</td>\n",
       "      <td>12/22/16</td>\n",
       "      <td>True</td>\n",
       "      <td>Show</td>\n",
       "    </tr>\n",
       "    <tr>\n",
       "      <th>1970</th>\n",
       "      <td>The OA: Part I: Chapter 1: Homecoming</td>\n",
       "      <td>12/22/16</td>\n",
       "      <td>True</td>\n",
       "      <td>Show</td>\n",
       "    </tr>\n",
       "    <tr>\n",
       "      <th>1971</th>\n",
       "      <td>The Imitation Game</td>\n",
       "      <td>12/21/16</td>\n",
       "      <td>False</td>\n",
       "      <td>Movie</td>\n",
       "    </tr>\n",
       "  </tbody>\n",
       "</table>\n",
       "<p>1972 rows × 4 columns</p>\n",
       "</div>"
      ],
      "text/plain": [
       "                                                  Title      Date Category  \\\n",
       "0            Russian Doll: Season 2: Station to Station    5/4/22     True   \n",
       "1                   Russian Doll: Season 2: Brain Drain    5/3/22     True   \n",
       "2             Russian Doll: Season 2: Coney Island Baby   4/26/22     True   \n",
       "3                        Russian Doll: Season 2: Nowhen   4/26/22     True   \n",
       "4     Eternally Confused and Eager for Love: Season ...   4/10/22     True   \n",
       "...                                                 ...       ...      ...   \n",
       "1967                    The OA: Part I: Chapter 4: Away  12/22/16     True   \n",
       "1968                The OA: Part I: Chapter 3: Champion  12/22/16     True   \n",
       "1969            The OA: Part I: Chapter 2: New Colossus  12/22/16     True   \n",
       "1970              The OA: Part I: Chapter 1: Homecoming  12/22/16     True   \n",
       "1971                                 The Imitation Game  12/21/16    False   \n",
       "\n",
       "     Movie Type  \n",
       "0          Show  \n",
       "1          Show  \n",
       "2          Show  \n",
       "3          Show  \n",
       "4          Show  \n",
       "...         ...  \n",
       "1967       Show  \n",
       "1968       Show  \n",
       "1969       Show  \n",
       "1970       Show  \n",
       "1971      Movie  \n",
       "\n",
       "[1972 rows x 4 columns]"
      ]
     },
     "execution_count": 18,
     "metadata": {},
     "output_type": "execute_result"
    }
   ],
   "source": [
    "Netflix_dataCopy"
   ]
  },
  {
   "cell_type": "markdown",
   "id": "c026b65e",
   "metadata": {},
   "source": [
    " Create a pie chart to show what proportion of the Netflix Viewings belonged to \"Shows\" and \"Movies\""
   ]
  },
  {
   "cell_type": "code",
   "execution_count": 19,
   "id": "c572aff9",
   "metadata": {},
   "outputs": [
    {
     "data": {
      "image/png": "[encoded data removed]",
      "text/plain": [
       "<Figure size 432x288 with 1 Axes>"
      ]
     },
     "metadata": {},
     "output_type": "display_data"
    }
   ],
   "source": [
    "labels = ['Show', 'Movie']\n",
    "count = [1781, 191]\n",
    "my_explode = [0,0.1]\n",
    "plt.pie(count, labels = labels, autopct = '%1.2f%%', startangle = 40, explode = my_explode, shadow = True, colors = ['c','m'])\n",
    "plt.legend(title = \"Category: \")\n",
    "plt.show()"
   ]
  },
  {
   "cell_type": "code",
   "execution_count": null,
   "id": "d26e4a1d",
   "metadata": {},
   "outputs": [],
   "source": []
  }
 ],
 "metadata": {
  "kernelspec": {
   "display_name": "Python 3",
   "language": "python",
   "name": "python3"
  },
  "language_info": {
   "codemirror_mode": {
    "name": "ipython",
    "version": 3
   },
   "file_extension": ".py",
   "mimetype": "text/x-python",
   "name": "python",
   "nbconvert_exporter": "python",
   "pygments_lexer": "ipython3",
   "version": "3.8.8"
  }
 },
 "nbformat": 4,
 "nbformat_minor": 5
}
